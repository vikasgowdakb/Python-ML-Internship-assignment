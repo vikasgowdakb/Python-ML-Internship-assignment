{
  "nbformat": 4,
  "nbformat_minor": 0,
  "metadata": {
    "colab": {
      "name": "Neural networks on wine dataset.ipynb",
      "provenance": [],
      "collapsed_sections": [],
      "include_colab_link": true
    },
    "kernelspec": {
      "name": "python3",
      "display_name": "Python 3"
    },
    "widgets": {
      "application/vnd.jupyter.widget-state+json": {
        "a974e1d9dc4a47a886c473b7f5d585f7": {
          "model_module": "@jupyter-widgets/controls",
          "model_name": "HBoxModel",
          "state": {
            "_view_name": "HBoxView",
            "_dom_classes": [],
            "_model_name": "HBoxModel",
            "_view_module": "@jupyter-widgets/controls",
            "_model_module_version": "1.5.0",
            "_view_count": null,
            "_view_module_version": "1.5.0",
            "box_style": "",
            "layout": "IPY_MODEL_05eb300475f24c0d86ee021215b5561f",
            "_model_module": "@jupyter-widgets/controls",
            "children": [
              "IPY_MODEL_781752e77ab748f9b2e4d329673e5515",
              "IPY_MODEL_ef37eab56aa14138b26f82bc15f34470"
            ]
          }
        },
        "05eb300475f24c0d86ee021215b5561f": {
          "model_module": "@jupyter-widgets/base",
          "model_name": "LayoutModel",
          "state": {
            "_view_name": "LayoutView",
            "grid_template_rows": null,
            "right": null,
            "justify_content": null,
            "_view_module": "@jupyter-widgets/base",
            "overflow": null,
            "_model_module_version": "1.2.0",
            "_view_count": null,
            "flex_flow": null,
            "width": null,
            "min_width": null,
            "border": null,
            "align_items": null,
            "bottom": null,
            "_model_module": "@jupyter-widgets/base",
            "top": null,
            "grid_column": null,
            "overflow_y": null,
            "overflow_x": null,
            "grid_auto_flow": null,
            "grid_area": null,
            "grid_template_columns": null,
            "flex": null,
            "_model_name": "LayoutModel",
            "justify_items": null,
            "grid_row": null,
            "max_height": null,
            "align_content": null,
            "visibility": null,
            "align_self": null,
            "height": null,
            "min_height": null,
            "padding": null,
            "grid_auto_rows": null,
            "grid_gap": null,
            "max_width": null,
            "order": null,
            "_view_module_version": "1.2.0",
            "grid_template_areas": null,
            "object_position": null,
            "object_fit": null,
            "grid_auto_columns": null,
            "margin": null,
            "display": null,
            "left": null
          }
        },
        "781752e77ab748f9b2e4d329673e5515": {
          "model_module": "@jupyter-widgets/controls",
          "model_name": "FloatProgressModel",
          "state": {
            "_view_name": "ProgressView",
            "style": "IPY_MODEL_9d92a9a6ab0a41a7a91c05f5a6711d08",
            "_dom_classes": [],
            "description": "100%",
            "_model_name": "FloatProgressModel",
            "bar_style": "success",
            "max": 10000,
            "_view_module": "@jupyter-widgets/controls",
            "_model_module_version": "1.5.0",
            "value": 10000,
            "_view_count": null,
            "_view_module_version": "1.5.0",
            "orientation": "horizontal",
            "min": 0,
            "description_tooltip": null,
            "_model_module": "@jupyter-widgets/controls",
            "layout": "IPY_MODEL_0ee55ecf37b14f23835801a94abbf94f"
          }
        },
        "ef37eab56aa14138b26f82bc15f34470": {
          "model_module": "@jupyter-widgets/controls",
          "model_name": "HTMLModel",
          "state": {
            "_view_name": "HTMLView",
            "style": "IPY_MODEL_b003d7c6a751451b8de4450e994626ac",
            "_dom_classes": [],
            "description": "",
            "_model_name": "HTMLModel",
            "placeholder": "​",
            "_view_module": "@jupyter-widgets/controls",
            "_model_module_version": "1.5.0",
            "value": " 10000/10000 [00:03&lt;00:00, 2728.86it/s]",
            "_view_count": null,
            "_view_module_version": "1.5.0",
            "description_tooltip": null,
            "_model_module": "@jupyter-widgets/controls",
            "layout": "IPY_MODEL_5ac3eaab5eed4935a5b3212e0bfdf2a3"
          }
        },
        "9d92a9a6ab0a41a7a91c05f5a6711d08": {
          "model_module": "@jupyter-widgets/controls",
          "model_name": "ProgressStyleModel",
          "state": {
            "_view_name": "StyleView",
            "_model_name": "ProgressStyleModel",
            "description_width": "initial",
            "_view_module": "@jupyter-widgets/base",
            "_model_module_version": "1.5.0",
            "_view_count": null,
            "_view_module_version": "1.2.0",
            "bar_color": null,
            "_model_module": "@jupyter-widgets/controls"
          }
        },
        "0ee55ecf37b14f23835801a94abbf94f": {
          "model_module": "@jupyter-widgets/base",
          "model_name": "LayoutModel",
          "state": {
            "_view_name": "LayoutView",
            "grid_template_rows": null,
            "right": null,
            "justify_content": null,
            "_view_module": "@jupyter-widgets/base",
            "overflow": null,
            "_model_module_version": "1.2.0",
            "_view_count": null,
            "flex_flow": null,
            "width": null,
            "min_width": null,
            "border": null,
            "align_items": null,
            "bottom": null,
            "_model_module": "@jupyter-widgets/base",
            "top": null,
            "grid_column": null,
            "overflow_y": null,
            "overflow_x": null,
            "grid_auto_flow": null,
            "grid_area": null,
            "grid_template_columns": null,
            "flex": null,
            "_model_name": "LayoutModel",
            "justify_items": null,
            "grid_row": null,
            "max_height": null,
            "align_content": null,
            "visibility": null,
            "align_self": null,
            "height": null,
            "min_height": null,
            "padding": null,
            "grid_auto_rows": null,
            "grid_gap": null,
            "max_width": null,
            "order": null,
            "_view_module_version": "1.2.0",
            "grid_template_areas": null,
            "object_position": null,
            "object_fit": null,
            "grid_auto_columns": null,
            "margin": null,
            "display": null,
            "left": null
          }
        },
        "b003d7c6a751451b8de4450e994626ac": {
          "model_module": "@jupyter-widgets/controls",
          "model_name": "DescriptionStyleModel",
          "state": {
            "_view_name": "StyleView",
            "_model_name": "DescriptionStyleModel",
            "description_width": "",
            "_view_module": "@jupyter-widgets/base",
            "_model_module_version": "1.5.0",
            "_view_count": null,
            "_view_module_version": "1.2.0",
            "_model_module": "@jupyter-widgets/controls"
          }
        },
        "5ac3eaab5eed4935a5b3212e0bfdf2a3": {
          "model_module": "@jupyter-widgets/base",
          "model_name": "LayoutModel",
          "state": {
            "_view_name": "LayoutView",
            "grid_template_rows": null,
            "right": null,
            "justify_content": null,
            "_view_module": "@jupyter-widgets/base",
            "overflow": null,
            "_model_module_version": "1.2.0",
            "_view_count": null,
            "flex_flow": null,
            "width": null,
            "min_width": null,
            "border": null,
            "align_items": null,
            "bottom": null,
            "_model_module": "@jupyter-widgets/base",
            "top": null,
            "grid_column": null,
            "overflow_y": null,
            "overflow_x": null,
            "grid_auto_flow": null,
            "grid_area": null,
            "grid_template_columns": null,
            "flex": null,
            "_model_name": "LayoutModel",
            "justify_items": null,
            "grid_row": null,
            "max_height": null,
            "align_content": null,
            "visibility": null,
            "align_self": null,
            "height": null,
            "min_height": null,
            "padding": null,
            "grid_auto_rows": null,
            "grid_gap": null,
            "max_width": null,
            "order": null,
            "_view_module_version": "1.2.0",
            "grid_template_areas": null,
            "object_position": null,
            "object_fit": null,
            "grid_auto_columns": null,
            "margin": null,
            "display": null,
            "left": null
          }
        }
      }
    }
  },
  "cells": [
    {
      "cell_type": "markdown",
      "metadata": {
        "id": "view-in-github",
        "colab_type": "text"
      },
      "source": [
        "<a href=\"https://colab.research.google.com/github/vikasgowdakb/Python-ML-Internship-assignment/blob/main/Neural_networks_on_wine_dataset.ipynb\" target=\"_parent\"><img src=\"https://colab.research.google.com/assets/colab-badge.svg\" alt=\"Open In Colab\"/></a>"
      ]
    },
    {
      "cell_type": "code",
      "metadata": {
        "id": "HuNoKh5M2vwo"
      },
      "source": [
        "import numpy as np\n",
        "import pandas as pd\n",
        "from sklearn.model_selection import train_test_split\n",
        "from sklearn.datasets import load_wine\n",
        "from tqdm import tqdm_notebook\n",
        "import matplotlib.pyplot as plt\n",
        "%matplotlib inline"
      ],
      "execution_count": null,
      "outputs": []
    },
    {
      "cell_type": "code",
      "metadata": {
        "id": "iO-sh2cV4cMJ"
      },
      "source": [
        "def sigmoid(x):\n",
        "    return 1 / (1 + np.exp(-x))\n",
        " \n",
        "def dsigmoid(x):\n",
        "    return x * (1-x)\n",
        " \n",
        "def relu(x):\n",
        "     return abs(x) * (x > 0)\n",
        " \n",
        "def drelu(x):\n",
        "     return 1. * (x > 0.)\n",
        " \n",
        "def lrelu(x):\n",
        "    return np.where(x > 0., x, x * 0.01)\n",
        " \n",
        "def dlrelu(x):\n",
        "    dx = np.ones_like(x)\n",
        "    dx[x < 0.] = 0.01\n",
        "    return dx\n",
        " \n",
        " \n",
        "def tanh(x):\n",
        "    return np.tanh(x)\n",
        " \n",
        "def dtanh(x):\n",
        "    return 1.0 - (np.power(np.tanh(x),2))"
      ],
      "execution_count": null,
      "outputs": []
    },
    {
      "cell_type": "code",
      "metadata": {
        "id": "LrcT5o7B5I0y"
      },
      "source": [
        "def feed_forward(data_in, w0,w1,w2,w3,b):\n",
        "  layer0 = data_in\n",
        "  layer1 = relu(np.dot(layer0,w0))\n",
        "  layer2 = relu(np.dot(layer1,w1))\n",
        "  layer3 = relu(np.dot(layer2,w2))\n",
        "  layer4 = np.dot(layer3, w3) +b\n",
        "\n",
        "  return layer0,layer1,layer2,layer3,layer4"
      ],
      "execution_count": null,
      "outputs": []
    },
    {
      "cell_type": "code",
      "metadata": {
        "id": "C6y9Wiji9xod"
      },
      "source": [
        "def accuracy(xtest,ytest):\n",
        "  correct=0\n",
        "  layer0,layer1,layer2,layer3,layer4=feed_forward(xtest,w0,w1,w2,w3,b)\n",
        "  for i in range(len(xtest)):\n",
        "    if np.argmax(layer2[i])==np.argmax(ytest[i]):\n",
        "      correct+=1\n",
        "  return f\"Accuracy: {correct*100/len(ytest)}\""
      ],
      "execution_count": null,
      "outputs": []
    },
    {
      "cell_type": "code",
      "metadata": {
        "id": "as-j_RMA_PHz"
      },
      "source": [
        "def backpropogate(i, layer0, layer1, layer2, layer3, layer4, actual_y, w0,w1,w2,w3, b, learning_rate):\n",
        "\n",
        "    \n",
        "    op_delta = layer4 - actual_y\n",
        "    dh4 = np.dot(layer3.T, op_delta)\n",
        "    \n",
        "    l3_error = op_delta.dot(w3.T)\n",
        "    l3_delta = l3_error * drelu(layer3)\n",
        "    dh3 = np.dot(layer2.T, l3_delta)\n",
        "    \n",
        "    l2_error = l3_delta.dot(w2.T)\n",
        "    l2_delta = l2_error * drelu(layer2)\n",
        "    dh2 = np.dot(layer1.T, l2_delta)\n",
        "    \n",
        "    l1_error = l2_delta.dot(w1.T)\n",
        "    l1_delta = l1_error * drelu(layer1)\n",
        "    dh1 = np.dot(layer0.T, l1_delta)\n",
        "    \n",
        "    w3 = w3 - (learning_rate * dh4)\n",
        "    w2 = w2 - (learning_rate * dh3)\n",
        "    w1 = w1 - (learning_rate * dh2)\n",
        "    w0 = w0 - (learning_rate * dh1)\n",
        "    b = b - (learning_rate * np.mean(op_delta))\n",
        "\n",
        "    if i%50==0 and (i!=0):\n",
        "        loss = np.mean(np.power(layer4-actual_y, 2))\n",
        "        loss_curve.append(loss)\n",
        "        iters.append(int(i))\n",
        "        \n",
        "        if i%1000 == 0:\n",
        "            print(\"\\n\", int(i), loss)\n",
        "\n",
        "        \n",
        "    return w0, w1,w2,w3,b"
      ],
      "execution_count": null,
      "outputs": []
    },
    {
      "cell_type": "code",
      "metadata": {
        "id": "mbPgwTKNAxsj"
      },
      "source": [
        "#wine data set \n",
        "wine=load_wine()\n",
        "d = pd.DataFrame(wine.data,columns=wine.feature_names)\n",
        "d = (d-d.min())/ (d.max()- d.min())\n",
        "x = np.array(d.iloc[:,:-1])\n",
        "y = np.array(d.iloc[:,-1])\n",
        "y = y.reshape(len(y), 1)\n",
        "xtrain,xtest,ytrain,ytest = train_test_split(x,y,test_size=0.2)"
      ],
      "execution_count": null,
      "outputs": []
    },
    {
      "cell_type": "code",
      "metadata": {
        "id": "GnQA025UEd9A"
      },
      "source": [
        "w0 = np.random.random((12,50))\n",
        "w1 = np.random.random((50,30))\n",
        "w2 = np.random.random((30,5))\n",
        "w3 = np.random.random((5,1))\n",
        "b = np.random.random((1,1))\n",
        "epochs = 10000"
      ],
      "execution_count": null,
      "outputs": []
    },
    {
      "cell_type": "code",
      "metadata": {
        "id": "WrK0t38YJrY3"
      },
      "source": [
        "loss_curve = []\n",
        "iters = []"
      ],
      "execution_count": null,
      "outputs": []
    },
    {
      "cell_type": "code",
      "metadata": {
        "id": "lKhu6kFDJ0Gn",
        "outputId": "303750e6-da50-42bd-dd9e-188d556e43cb",
        "colab": {
          "base_uri": "https://localhost:8080/",
          "height": 423,
          "referenced_widgets": [
            "a974e1d9dc4a47a886c473b7f5d585f7",
            "05eb300475f24c0d86ee021215b5561f",
            "781752e77ab748f9b2e4d329673e5515",
            "ef37eab56aa14138b26f82bc15f34470",
            "9d92a9a6ab0a41a7a91c05f5a6711d08",
            "0ee55ecf37b14f23835801a94abbf94f",
            "b003d7c6a751451b8de4450e994626ac",
            "5ac3eaab5eed4935a5b3212e0bfdf2a3"
          ]
        }
      },
      "source": [
        "for i in tqdm_notebook(range(epochs)):\n",
        "    layer0, layer1, layer2, layer3, layer4 = feed_forward(xtrain, w0,w1,w2,w3,b)\n",
        "    w0, w1,w2,w3,b = backpropogate(i,layer0, layer1, layer2, layer3, layer4, ytrain, w0,w1,w2,w3, b, 0.001 )"
      ],
      "execution_count": null,
      "outputs": [
        {
          "output_type": "stream",
          "text": [
            "/usr/local/lib/python3.6/dist-packages/ipykernel_launcher.py:1: TqdmDeprecationWarning: This function will be removed in tqdm==5.0.0\n",
            "Please use `tqdm.notebook.tqdm` instead of `tqdm.tqdm_notebook`\n",
            "  \"\"\"Entry point for launching an IPython kernel.\n"
          ],
          "name": "stderr"
        },
        {
          "output_type": "display_data",
          "data": {
            "application/vnd.jupyter.widget-view+json": {
              "model_id": "a974e1d9dc4a47a886c473b7f5d585f7",
              "version_minor": 0,
              "version_major": 2
            },
            "text/plain": [
              "HBox(children=(FloatProgress(value=0.0, max=10000.0), HTML(value='')))"
            ]
          },
          "metadata": {
            "tags": []
          }
        },
        {
          "output_type": "stream",
          "text": [
            "\n",
            " 1000 0.2461322799822431\n",
            "\n",
            " 2000 0.07635761684724691\n",
            "\n",
            " 3000 0.05340409505700978\n",
            "\n",
            " 4000 0.05030078062335984\n",
            "\n",
            " 5000 0.049881212743445424\n",
            "\n",
            " 6000 0.0498244871973818\n",
            "\n",
            " 7000 0.04981681790778586\n",
            "\n",
            " 8000 0.04981578102040463\n",
            "\n",
            " 9000 0.049815640833308056\n",
            "\n"
          ],
          "name": "stdout"
        }
      ]
    },
    {
      "cell_type": "code",
      "metadata": {
        "id": "GJmgxniNLEva",
        "outputId": "765fee58-c0aa-4566-8e43-f04891fe96d5",
        "colab": {
          "base_uri": "https://localhost:8080/",
          "height": 34
        }
      },
      "source": [
        "layer0,layer1,layer2,layer3,layer4 = feed_forward(xtest,w0,w1,w2,w3,b)\n",
        "loss = np.mean(np.power(layer4-ytest,2))\n",
        "loss"
      ],
      "execution_count": null,
      "outputs": [
        {
          "output_type": "execute_result",
          "data": {
            "text/plain": [
              "0.051877763133346355"
            ]
          },
          "metadata": {
            "tags": []
          },
          "execution_count": 22
        }
      ]
    },
    {
      "cell_type": "code",
      "metadata": {
        "id": "9bvJAP4p-muX",
        "outputId": "274387b3-6d1f-4dd1-c85a-cffaaed569a1",
        "colab": {
          "base_uri": "https://localhost:8080/",
          "height": 34
        }
      },
      "source": [
        "acc=accuracy(xtest,ytest)\n",
        "print(acc)"
      ],
      "execution_count": null,
      "outputs": [
        {
          "output_type": "stream",
          "text": [
            "Accuracy: 100.0\n"
          ],
          "name": "stdout"
        }
      ]
    },
    {
      "cell_type": "code",
      "metadata": {
        "id": "THUs9PClNp08",
        "outputId": "aa8ef6f7-bd39-489c-a813-a58dbe39d1f7",
        "colab": {
          "base_uri": "https://localhost:8080/",
          "height": 282
        }
      },
      "source": [
        "plt.plot(iters,loss_curve, 'g-')"
      ],
      "execution_count": null,
      "outputs": [
        {
          "output_type": "execute_result",
          "data": {
            "text/plain": [
              "[<matplotlib.lines.Line2D at 0x7f5ec77c3c88>]"
            ]
          },
          "metadata": {
            "tags": []
          },
          "execution_count": 24
        },
        {
          "output_type": "display_data",
          "data": {
            "image/png": "[encoded data removed]",
            "text/plain": [
              "<Figure size 432x288 with 1 Axes>"
            ]
          },
          "metadata": {
            "tags": [],
            "needs_background": "light"
          }
        }
      ]
    }
  ]
}